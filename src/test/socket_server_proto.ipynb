{
 "cells": [
  {
   "cell_type": "markdown",
   "metadata": {},
   "source": [
    "\"\"\"\"\"\"\"\"\"\"\"\"\"\"\"\"\"\"\"\"\"\"\"\"\"\"\"\"\"\"\"\"\"\"\"\"\"\"\"\"\"\"\"\"\"\"\"\"\"\"\"\"\"\"\"\"\"\"\"\"\"\"\"\"\"\"\"\"\"\"\"\"\"\"\"\"\"\n",
    "### Alias : unit_table.py & Last Modded : 2023.07.09. ###\n",
    "Coded with Python 3.10 Grammar by Jin, Hojin\n",
    "Description : FOS Controller Prototype\n",
    "\"\"\"\"\"\"\"\"\"\"\"\"\"\"\"\"\"\"\"\"\"\"\"\"\"\"\"\"\"\"\"\"\"\"\"\"\"\"\"\"\"\"\"\"\"\"\"\"\"\"\"\"\"\"\"\"\"\"\"\"\"\"\"\"\"\"\"\"\"\"\"\"\"\"\"\"\""
   ]
  },
  {
   "cell_type": "markdown",
   "metadata": {},
   "source": [
    "#### Basic Settings"
   ]
  },
  {
   "cell_type": "code",
   "execution_count": 1,
   "metadata": {
    "ExecuteTime": {
     "end_time": "2023-07-18T23:08:04.554515100Z",
     "start_time": "2023-07-18T23:08:02.404942200Z"
    }
   },
   "outputs": [],
   "source": [
    "import asyncio\n",
    "import socket\n",
    "import json\n",
    "\n",
    "import pandas as pd\n",
    "\n",
    "HOST = \"127.0.0.1\"\n",
    "PORT = 8080\n",
    "SIZE = 4096"
   ]
  },
  {
   "cell_type": "code",
   "execution_count": 2,
   "metadata": {
    "ExecuteTime": {
     "end_time": "2023-07-18T23:08:04.568495Z",
     "start_time": "2023-07-18T23:08:04.558653100Z"
    }
   },
   "outputs": [],
   "source": [
    "def recv():\n",
    "    global client_socket\n",
    "    fragments = []\n",
    "    while True:\n",
    "        chunk = client_socket.recv(SIZE)\n",
    "        if not chunk:\n",
    "            raise Exception(\"Socket connection closed unexpectedly.\")\n",
    "        fragments.append(chunk)\n",
    "        if len(chunk) < SIZE:\n",
    "            break\n",
    "    return b''.join(fragments).decode()"
   ]
  },
  {
   "cell_type": "markdown",
   "metadata": {},
   "source": [
    "#### Server Open"
   ]
  },
  {
   "cell_type": "code",
   "execution_count": 3,
   "metadata": {
    "ExecuteTime": {
     "end_time": "2023-07-18T23:08:04.594731600Z",
     "start_time": "2023-07-18T23:08:04.571495Z"
    }
   },
   "outputs": [],
   "source": [
    "server_socket = socket.socket(socket.AF_INET, socket.SOCK_STREAM)\n",
    "server_socket.bind((HOST, PORT))\n",
    "server_socket.listen()"
   ]
  },
  {
   "cell_type": "markdown",
   "metadata": {},
   "source": [
    "#### Client Accept"
   ]
  },
  {
   "cell_type": "code",
   "execution_count": 4,
   "metadata": {
    "ExecuteTime": {
     "end_time": "2023-07-18T23:08:04.687605Z",
     "start_time": "2023-07-18T23:08:04.589132700Z"
    }
   },
   "outputs": [],
   "source": [
    "client_socket, client_addr = server_socket.accept()"
   ]
  },
  {
   "cell_type": "code",
   "execution_count": 5,
   "metadata": {
    "ExecuteTime": {
     "end_time": "2023-07-18T23:08:04.695119600Z",
     "start_time": "2023-07-18T23:08:04.683077200Z"
    }
   },
   "outputs": [
    {
     "data": {
      "text/plain": [
       "'!CONNECTED!'"
      ]
     },
     "execution_count": 5,
     "metadata": {},
     "output_type": "execute_result"
    }
   ],
   "source": [
    "msg = recv()\n",
    "msg"
   ]
  },
  {
   "cell_type": "markdown",
   "metadata": {},
   "source": [
    "#### Game Start"
   ]
  },
  {
   "cell_type": "markdown",
   "metadata": {},
   "source": [
    "#### Round 1"
   ]
  },
  {
   "cell_type": "code",
   "execution_count": 6,
   "metadata": {
    "ExecuteTime": {
     "end_time": "2023-07-18T23:08:09.290061Z",
     "start_time": "2023-07-18T23:08:09.284525900Z"
    }
   },
   "outputs": [],
   "source": [
    "client_socket.sendall(\"/start\".encode())"
   ]
  },
  {
   "cell_type": "code",
   "execution_count": 7,
   "metadata": {
    "ExecuteTime": {
     "end_time": "2023-07-18T23:08:10.178986400Z",
     "start_time": "2023-07-18T23:08:10.138117100Z"
    }
   },
   "outputs": [
    {
     "data": {
      "text/html": [
       "<div>\n",
       "<style scoped>\n",
       "    .dataframe tbody tr th:only-of-type {\n",
       "        vertical-align: middle;\n",
       "    }\n",
       "\n",
       "    .dataframe tbody tr th {\n",
       "        vertical-align: top;\n",
       "    }\n",
       "\n",
       "    .dataframe thead th {\n",
       "        text-align: right;\n",
       "    }\n",
       "</style>\n",
       "<table border=\"1\" class=\"dataframe\">\n",
       "  <thead>\n",
       "    <tr style=\"text-align: right;\">\n",
       "      <th></th>\n",
       "      <th>0</th>\n",
       "    </tr>\n",
       "  </thead>\n",
       "  <tbody>\n",
       "    <tr>\n",
       "      <th>code</th>\n",
       "      <td>200</td>\n",
       "    </tr>\n",
       "    <tr>\n",
       "      <th>message</th>\n",
       "      <td>Round 1 is ready.</td>\n",
       "    </tr>\n",
       "    <tr>\n",
       "      <th>data</th>\n",
       "      <td>{'round': 1}</td>\n",
       "    </tr>\n",
       "  </tbody>\n",
       "</table>\n",
       "</div>"
      ],
      "text/plain": [
       "                         0\n",
       "code                   200\n",
       "message  Round 1 is ready.\n",
       "data          {'round': 1}"
      ]
     },
     "execution_count": 7,
     "metadata": {},
     "output_type": "execute_result"
    }
   ],
   "source": [
    "msg = pd.DataFrame.from_dict(data=json.loads(recv()), orient='index')\n",
    "msg"
   ]
  },
  {
   "cell_type": "code",
   "execution_count": 8,
   "metadata": {
    "ExecuteTime": {
     "end_time": "2023-07-18T23:08:13.331728300Z",
     "start_time": "2023-07-18T23:08:13.307460200Z"
    }
   },
   "outputs": [],
   "source": [
    "client_socket.sendall(\"/data/aircraft_specsheet\".encode())"
   ]
  },
  {
   "cell_type": "code",
   "execution_count": 9,
   "metadata": {
    "ExecuteTime": {
     "end_time": "2023-07-18T23:08:14.351854500Z",
     "start_time": "2023-07-18T23:08:14.323008400Z"
    }
   },
   "outputs": [
    {
     "data": {
      "text/html": [
       "<div>\n",
       "<style scoped>\n",
       "    .dataframe tbody tr th:only-of-type {\n",
       "        vertical-align: middle;\n",
       "    }\n",
       "\n",
       "    .dataframe tbody tr th {\n",
       "        vertical-align: top;\n",
       "    }\n",
       "\n",
       "    .dataframe thead th {\n",
       "        text-align: right;\n",
       "    }\n",
       "</style>\n",
       "<table border=\"1\" class=\"dataframe\">\n",
       "  <thead>\n",
       "    <tr style=\"text-align: right;\">\n",
       "      <th></th>\n",
       "      <th>0</th>\n",
       "    </tr>\n",
       "  </thead>\n",
       "  <tbody>\n",
       "    <tr>\n",
       "      <th>code</th>\n",
       "      <td>200</td>\n",
       "    </tr>\n",
       "    <tr>\n",
       "      <th>message</th>\n",
       "      <td>Success</td>\n",
       "    </tr>\n",
       "    <tr>\n",
       "      <th>data</th>\n",
       "      <td>{\"D1\": {\"Aircraft Type\": \"Drone\", \"Velocity\": ...</td>\n",
       "    </tr>\n",
       "  </tbody>\n",
       "</table>\n",
       "</div>"
      ],
      "text/plain": [
       "                                                         0\n",
       "code                                                   200\n",
       "message                                            Success\n",
       "data     {\"D1\": {\"Aircraft Type\": \"Drone\", \"Velocity\": ..."
      ]
     },
     "execution_count": 9,
     "metadata": {},
     "output_type": "execute_result"
    }
   ],
   "source": [
    "spec = pd.DataFrame.from_dict(data=json.loads(recv()), orient='index')\n",
    "spec"
   ]
  },
  {
   "cell_type": "code",
   "execution_count": 10,
   "metadata": {
    "ExecuteTime": {
     "end_time": "2023-07-18T23:08:18.844942500Z",
     "start_time": "2023-07-18T23:08:18.820320100Z"
    }
   },
   "outputs": [],
   "source": [
    "client_socket.sendall(\"/data/target_list\".encode())"
   ]
  },
  {
   "cell_type": "code",
   "execution_count": 11,
   "metadata": {
    "ExecuteTime": {
     "end_time": "2023-07-18T23:08:19.772943600Z",
     "start_time": "2023-07-18T23:08:19.728325100Z"
    }
   },
   "outputs": [
    {
     "data": {
      "text/html": [
       "<div>\n",
       "<style scoped>\n",
       "    .dataframe tbody tr th:only-of-type {\n",
       "        vertical-align: middle;\n",
       "    }\n",
       "\n",
       "    .dataframe tbody tr th {\n",
       "        vertical-align: top;\n",
       "    }\n",
       "\n",
       "    .dataframe thead th {\n",
       "        text-align: right;\n",
       "    }\n",
       "</style>\n",
       "<table border=\"1\" class=\"dataframe\">\n",
       "  <thead>\n",
       "    <tr style=\"text-align: right;\">\n",
       "      <th></th>\n",
       "      <th>0</th>\n",
       "    </tr>\n",
       "  </thead>\n",
       "  <tbody>\n",
       "    <tr>\n",
       "      <th>code</th>\n",
       "      <td>200</td>\n",
       "    </tr>\n",
       "    <tr>\n",
       "      <th>message</th>\n",
       "      <td>Success</td>\n",
       "    </tr>\n",
       "    <tr>\n",
       "      <th>data</th>\n",
       "      <td>{\"Targets\": {\"T1\": {\"latitude\": 280, \"longitud...</td>\n",
       "    </tr>\n",
       "    <tr>\n",
       "      <th>time</th>\n",
       "      <td>0600</td>\n",
       "    </tr>\n",
       "  </tbody>\n",
       "</table>\n",
       "</div>"
      ],
      "text/plain": [
       "                                                         0\n",
       "code                                                   200\n",
       "message                                            Success\n",
       "data     {\"Targets\": {\"T1\": {\"latitude\": 280, \"longitud...\n",
       "time                                                  0600"
      ]
     },
     "execution_count": 11,
     "metadata": {},
     "output_type": "execute_result"
    }
   ],
   "source": [
    "targets = pd.DataFrame.from_dict(data=json.loads(recv()), orient='index')\n",
    "targets"
   ]
  },
  {
   "cell_type": "code",
   "execution_count": 12,
   "metadata": {
    "ExecuteTime": {
     "end_time": "2023-07-18T23:08:22.275291800Z",
     "start_time": "2023-07-18T23:08:22.236617100Z"
    }
   },
   "outputs": [],
   "source": [
    "Target_list = pd.DataFrame.from_dict(data=json.loads(targets[0]['data']), orient='columns')"
   ]
  },
  {
   "cell_type": "code",
   "execution_count": 13,
   "metadata": {
    "ExecuteTime": {
     "end_time": "2023-07-18T23:08:23.943344800Z",
     "start_time": "2023-07-18T23:08:23.921288500Z"
    }
   },
   "outputs": [],
   "source": [
    "client_socket.sendall(\"/data/unit_table\".encode())"
   ]
  },
  {
   "cell_type": "code",
   "execution_count": 14,
   "metadata": {
    "ExecuteTime": {
     "end_time": "2023-07-18T23:08:24.894298600Z",
     "start_time": "2023-07-18T23:08:24.855080700Z"
    }
   },
   "outputs": [
    {
     "data": {
      "text/html": [
       "<div>\n",
       "<style scoped>\n",
       "    .dataframe tbody tr th:only-of-type {\n",
       "        vertical-align: middle;\n",
       "    }\n",
       "\n",
       "    .dataframe tbody tr th {\n",
       "        vertical-align: top;\n",
       "    }\n",
       "\n",
       "    .dataframe thead th {\n",
       "        text-align: right;\n",
       "    }\n",
       "</style>\n",
       "<table border=\"1\" class=\"dataframe\">\n",
       "  <thead>\n",
       "    <tr style=\"text-align: right;\">\n",
       "      <th></th>\n",
       "      <th>0</th>\n",
       "    </tr>\n",
       "  </thead>\n",
       "  <tbody>\n",
       "    <tr>\n",
       "      <th>code</th>\n",
       "      <td>200</td>\n",
       "    </tr>\n",
       "    <tr>\n",
       "      <th>message</th>\n",
       "      <td>Success</td>\n",
       "    </tr>\n",
       "    <tr>\n",
       "      <th>data</th>\n",
       "      <td>{\"D1-A\": {\"Ordered\": false, \"Available\": true,...</td>\n",
       "    </tr>\n",
       "    <tr>\n",
       "      <th>time</th>\n",
       "      <td>0600</td>\n",
       "    </tr>\n",
       "  </tbody>\n",
       "</table>\n",
       "</div>"
      ],
      "text/plain": [
       "                                                         0\n",
       "code                                                   200\n",
       "message                                            Success\n",
       "data     {\"D1-A\": {\"Ordered\": false, \"Available\": true,...\n",
       "time                                                  0600"
      ]
     },
     "execution_count": 14,
     "metadata": {},
     "output_type": "execute_result"
    }
   ],
   "source": [
    "units = pd.DataFrame.from_dict(data=json.loads(recv()), orient='index')\n",
    "units"
   ]
  },
  {
   "cell_type": "code",
   "execution_count": 15,
   "metadata": {},
   "outputs": [],
   "source": [
    "Target_dict = json.loads(targets[0]['data'])\n",
    "Target_dict\n",
    "Target_list_temp=[]\n",
    "random_target = 'T0'\n",
    "for i in range(1,10):\n",
    "    random_target_temp = 'T'+f'{i}'\n",
    "    if(Target_dict['Targets'][random_target_temp]['probability'] != 0):\n",
    "        Target_list_temp.append(Target_dict['Targets'][random_target_temp])\n",
    "        random_target = random_target_temp\n",
    "Lake_info = Target_dict['Lakes']['L1']"
   ]
  },
  {
   "cell_type": "code",
   "execution_count": 16,
   "metadata": {},
   "outputs": [],
   "source": [
    "#좌표 한칸당 1km로 가정\n",
    "import math\n",
    "import collections\n",
    "lake_lat = Lake_info['latitude']\n",
    "lake_long = Lake_info['longitude']\n",
    "\n",
    "base_list = ['A', 'B', 'C']\n",
    "base_lat ={}\n",
    "base_long = {}\n",
    "unit_dict = json.loads(units[0]['data'])\n",
    "aircraft_info = json.loads(spec[0]['data'])\n",
    "time_dict = {}\n",
    "weighted_cost = {}\n",
    "for i in base_list:\n",
    "    base_lat[i] = Target_dict['Bases'][i]['latitude']\n",
    "    base_long[i] = Target_dict['Bases'][i]['longitude']"
   ]
  },
  {
   "cell_type": "code",
   "execution_count": 17,
   "metadata": {},
   "outputs": [],
   "source": [
    "def select_aircraft(Target_list, round_num):\n",
    "    result_aircraft = []\n",
    "    for i in range(0, round_num):\n",
    "        target_lat = Target_list[i]['latitude']\n",
    "        target_long = Target_list[i]['longitude']\n",
    "    \n",
    "        for name in unit_dict:\n",
    "            result_time = 0\n",
    "            aircraft_name = name[0:2]\n",
    "            velocity = aircraft_info[aircraft_name]['Velocity']\n",
    "            base_name = unit_dict[name]['Base']\n",
    "            water_need = 100 - unit_dict[name]['Current Water']\n",
    "            water_fulltime = aircraft_info[aircraft_name]['Water Tank']\n",
    "            Time_water = water_fulltime*(water_need/100)\n",
    "            if(Time_water != 0):\n",
    "                result_time = aircraft_info[aircraft_name]['ETRDY'] +Time_water + (math.sqrt((lake_lat - base_lat[base_name])**2 + (lake_long - base_long[base_name])**2)/velocity)*60 + (math.sqrt((target_lat - lake_lat)**2 + (target_long - lake_long)**2)/velocity)*60\n",
    "            else:\n",
    "                result_time = aircraft_info[aircraft_name]['ETRDY'] + (math.sqrt((target_lat - base_lat[base_name])**2 + (target_long - base_long[base_name])**2)/velocity)*60\n",
    "            time_dict[name] = result_time\n",
    "            weight = (100 / aircraft_info[aircraft_name]['Possibility'])**2\n",
    "            \n",
    "            weighted_cost[name] = int(((aircraft_info[aircraft_name]['Cost']*weight/90.0)**1.16 + 10*math.log10((result_time*weight+2)**2)) * 100)\n",
    "        \n",
    "        sorted_cost = sorted(weighted_cost.items(), key=lambda x: x[1], reverse=False)\n",
    "            \n",
    "        result_aircraft.append(sorted_cost)\n",
    "    return result_aircraft"
   ]
  },
  {
   "cell_type": "code",
   "execution_count": 18,
   "metadata": {
    "ExecuteTime": {
     "end_time": "2023-07-18T23:08:28.638497100Z",
     "start_time": "2023-07-18T23:08:28.632977400Z"
    }
   },
   "outputs": [],
   "source": [
    "xml = f'''<operations>\n",
    "    <order>\n",
    "        <time>0601</time>\n",
    "        <base>{unit_dict[select_aircraft(Target_list_temp,1)[0][0][0]]['Base']}</base>\n",
    "        <aircraft_type>{aircraft_info[select_aircraft(Target_list_temp,1)[0][0][0][0:2]]['Aircraft Type']}</aircraft_type>\n",
    "        <track_number>{select_aircraft(Target_list_temp,1)[0][0][0]}</track_number>\n",
    "        <mission_type>1</mission_type>\n",
    "        <course>{random_target}</course>\n",
    "    </order>\n",
    "    <order>\n",
    "        <time>0602</time>\n",
    "        <base>{unit_dict[select_aircraft(Target_list_temp,1)[0][1][0]]['Base']}</base>\n",
    "        <aircraft_type>{aircraft_info[select_aircraft(Target_list_temp,1)[0][1][0][0:2]]['Aircraft Type']}</aircraft_type>\n",
    "        <track_number>{select_aircraft(Target_list_temp,1)[0][1][0]}</track_number>\n",
    "        <mission_type>1</mission_type>\n",
    "        <course>{random_target}</course>\n",
    "    </order>\n",
    "</operations>'''"
   ]
  },
  {
   "cell_type": "code",
   "execution_count": 19,
   "metadata": {
    "ExecuteTime": {
     "end_time": "2023-07-18T23:08:29.790562700Z",
     "start_time": "2023-07-18T23:08:29.757998600Z"
    }
   },
   "outputs": [
    {
     "data": {
      "text/html": [
       "<div>\n",
       "<style scoped>\n",
       "    .dataframe tbody tr th:only-of-type {\n",
       "        vertical-align: middle;\n",
       "    }\n",
       "\n",
       "    .dataframe tbody tr th {\n",
       "        vertical-align: top;\n",
       "    }\n",
       "\n",
       "    .dataframe thead th {\n",
       "        text-align: right;\n",
       "    }\n",
       "</style>\n",
       "<table border=\"1\" class=\"dataframe\">\n",
       "  <thead>\n",
       "    <tr style=\"text-align: right;\">\n",
       "      <th></th>\n",
       "      <th>0</th>\n",
       "    </tr>\n",
       "  </thead>\n",
       "  <tbody>\n",
       "    <tr>\n",
       "      <th>code</th>\n",
       "      <td>200</td>\n",
       "    </tr>\n",
       "    <tr>\n",
       "      <th>message</th>\n",
       "      <td>Success</td>\n",
       "    </tr>\n",
       "  </tbody>\n",
       "</table>\n",
       "</div>"
      ],
      "text/plain": [
       "               0\n",
       "code         200\n",
       "message  Success"
      ]
     },
     "execution_count": 19,
     "metadata": {},
     "output_type": "execute_result"
    }
   ],
   "source": [
    "client_socket.sendall(f\"/order/{xml}\".encode())\n",
    "\n",
    "order_result = pd.DataFrame.from_dict(data=json.loads(recv()), orient='index')\n",
    "order_result"
   ]
  },
  {
   "cell_type": "code",
   "execution_count": 20,
   "metadata": {},
   "outputs": [],
   "source": [
    "client_socket.sendall(\"/data/unit_table\".encode())"
   ]
  },
  {
   "cell_type": "code",
   "execution_count": 21,
   "metadata": {},
   "outputs": [
    {
     "data": {
      "text/html": [
       "<div>\n",
       "<style scoped>\n",
       "    .dataframe tbody tr th:only-of-type {\n",
       "        vertical-align: middle;\n",
       "    }\n",
       "\n",
       "    .dataframe tbody tr th {\n",
       "        vertical-align: top;\n",
       "    }\n",
       "\n",
       "    .dataframe thead th {\n",
       "        text-align: right;\n",
       "    }\n",
       "</style>\n",
       "<table border=\"1\" class=\"dataframe\">\n",
       "  <thead>\n",
       "    <tr style=\"text-align: right;\">\n",
       "      <th></th>\n",
       "      <th>0</th>\n",
       "    </tr>\n",
       "  </thead>\n",
       "  <tbody>\n",
       "    <tr>\n",
       "      <th>code</th>\n",
       "      <td>200</td>\n",
       "    </tr>\n",
       "    <tr>\n",
       "      <th>message</th>\n",
       "      <td>Success</td>\n",
       "    </tr>\n",
       "    <tr>\n",
       "      <th>data</th>\n",
       "      <td>{\"D1-A\": {\"Ordered\": false, \"Available\": true,...</td>\n",
       "    </tr>\n",
       "    <tr>\n",
       "      <th>time</th>\n",
       "      <td>0601</td>\n",
       "    </tr>\n",
       "  </tbody>\n",
       "</table>\n",
       "</div>"
      ],
      "text/plain": [
       "                                                         0\n",
       "code                                                   200\n",
       "message                                            Success\n",
       "data     {\"D1-A\": {\"Ordered\": false, \"Available\": true,...\n",
       "time                                                  0601"
      ]
     },
     "execution_count": 21,
     "metadata": {},
     "output_type": "execute_result"
    }
   ],
   "source": [
    "units = pd.DataFrame.from_dict(data=json.loads(recv()), orient='index')\n",
    "units"
   ]
  },
  {
   "cell_type": "code",
   "execution_count": 22,
   "metadata": {},
   "outputs": [],
   "source": [
    "xml_skip = '''<operations>\n",
    "            </operations>'''"
   ]
  },
  {
   "cell_type": "code",
   "execution_count": 23,
   "metadata": {
    "ExecuteTime": {
     "end_time": "2023-07-18T23:08:30.967962500Z",
     "start_time": "2023-07-18T23:08:30.936299Z"
    }
   },
   "outputs": [],
   "source": [
    "aircraft_number = 2\n",
    "while(True):\n",
    "    check = 0\n",
    "    trigger = 0\n",
    "    client_socket.sendall(f\"/order/{xml_skip}\".encode())\n",
    "\n",
    "    order_result = pd.DataFrame.from_dict(data=json.loads(recv()), orient='index')\n",
    "    order_result\n",
    "    \n",
    "    client_socket.sendall(\"/data/target_list\".encode())\n",
    "\n",
    "    targets = pd.DataFrame.from_dict(data=json.loads(recv()), orient='index')\n",
    "    targets\n",
    "    \n",
    "    try:\n",
    "        Target_dict = json.loads(targets[0]['data'])\n",
    "        Target_dict\n",
    "    except:\n",
    "        break\n",
    "    \n",
    "    Target_list_temp=[]\n",
    "    random_target = []\n",
    "    \n",
    "    for i in range(1,10):\n",
    "        random_target_temp = 'T'+f'{i}'\n",
    "        if(Target_dict['Targets'][random_target_temp]['threat'] == 0):\n",
    "            check = check + 1\n",
    "\n",
    "        if(Target_dict['Targets'][random_target_temp]['probability'] != 0 and Target_dict['Targets'][random_target_temp]['targeted'] != True):\n",
    "            aircraft_number = aircraft_number + 1\n",
    "            if (aircraft_number >= 30):\n",
    "                aircraft_number = aircraft_number % 30\n",
    "            trigger = 1\n",
    "            Target_list_temp.append(Target_dict['Targets'][random_target_temp])\n",
    "            random_target.append(random_target_temp)\n",
    "    if(check == 9):\n",
    "        break\n",
    "    if trigger == 1:    \n",
    "        client_socket.sendall(\"/data/unit_table\".encode())\n",
    "\n",
    "        units = pd.DataFrame.from_dict(data=json.loads(recv()), orient='index')\n",
    "        units\n",
    "        \n",
    "        xml = f'''<operations>\n",
    "        <order>\n",
    "            <time>{\"0\"+str(int(units[0]['time'])+1)}</time>\n",
    "            <base>{unit_dict[select_aircraft(Target_list_temp,1)[0][aircraft_number][0]]['Base']}</base>\n",
    "            <aircraft_type>{aircraft_info[select_aircraft(Target_list_temp,1)[0][aircraft_number][0][0:2]]['Aircraft Type']}</aircraft_type>\n",
    "            <track_number>{select_aircraft(Target_list_temp,1)[0][aircraft_number][0]}</track_number>\n",
    "            <mission_type>1</mission_type>\n",
    "            <course>{random_target[0]}</course>\n",
    "        </order>\n",
    "        </operations>'''\n",
    "\n",
    "        client_socket.sendall(f\"/order/{xml}\".encode())\n",
    "\n",
    "        order_result = pd.DataFrame.from_dict(data=json.loads(recv()), orient='index')\n",
    "        order_result\n",
    "\n",
    "        client_socket.sendall(\"/data/unit_table\".encode())\n",
    "\n",
    "        units = pd.DataFrame.from_dict(data=json.loads(recv()), orient='index')\n",
    "        units"
   ]
  },
  {
   "cell_type": "code",
   "execution_count": 24,
   "metadata": {},
   "outputs": [
    {
     "data": {
      "text/html": [
       "<div>\n",
       "<style scoped>\n",
       "    .dataframe tbody tr th:only-of-type {\n",
       "        vertical-align: middle;\n",
       "    }\n",
       "\n",
       "    .dataframe tbody tr th {\n",
       "        vertical-align: top;\n",
       "    }\n",
       "\n",
       "    .dataframe thead th {\n",
       "        text-align: right;\n",
       "    }\n",
       "</style>\n",
       "<table border=\"1\" class=\"dataframe\">\n",
       "  <thead>\n",
       "    <tr style=\"text-align: right;\">\n",
       "      <th></th>\n",
       "      <th>0</th>\n",
       "    </tr>\n",
       "  </thead>\n",
       "  <tbody>\n",
       "    <tr>\n",
       "      <th>code</th>\n",
       "      <td>200</td>\n",
       "    </tr>\n",
       "    <tr>\n",
       "      <th>message</th>\n",
       "      <td>Round 1 is finished.</td>\n",
       "    </tr>\n",
       "    <tr>\n",
       "      <th>data</th>\n",
       "      <td>{'round': 1, 'is_win': True, 'score': 3669}</td>\n",
       "    </tr>\n",
       "  </tbody>\n",
       "</table>\n",
       "</div>"
      ],
      "text/plain": [
       "                                                   0\n",
       "code                                             200\n",
       "message                         Round 1 is finished.\n",
       "data     {'round': 1, 'is_win': True, 'score': 3669}"
      ]
     },
     "execution_count": 24,
     "metadata": {},
     "output_type": "execute_result"
    }
   ],
   "source": [
    "client_socket.sendall(\"/result\".encode())\n",
    "\n",
    "msg = pd.DataFrame.from_dict(data=json.loads(recv()), orient='index')\n",
    "msg"
   ]
  },
  {
   "cell_type": "markdown",
   "metadata": {},
   "source": [
    "#### Round 2"
   ]
  },
  {
   "cell_type": "code",
   "execution_count": 25,
   "metadata": {},
   "outputs": [
    {
     "data": {
      "text/html": [
       "<div>\n",
       "<style scoped>\n",
       "    .dataframe tbody tr th:only-of-type {\n",
       "        vertical-align: middle;\n",
       "    }\n",
       "\n",
       "    .dataframe tbody tr th {\n",
       "        vertical-align: top;\n",
       "    }\n",
       "\n",
       "    .dataframe thead th {\n",
       "        text-align: right;\n",
       "    }\n",
       "</style>\n",
       "<table border=\"1\" class=\"dataframe\">\n",
       "  <thead>\n",
       "    <tr style=\"text-align: right;\">\n",
       "      <th></th>\n",
       "      <th>0</th>\n",
       "    </tr>\n",
       "  </thead>\n",
       "  <tbody>\n",
       "    <tr>\n",
       "      <th>code</th>\n",
       "      <td>200</td>\n",
       "    </tr>\n",
       "    <tr>\n",
       "      <th>message</th>\n",
       "      <td>Round 2 is ready.</td>\n",
       "    </tr>\n",
       "    <tr>\n",
       "      <th>data</th>\n",
       "      <td>{'round': 2}</td>\n",
       "    </tr>\n",
       "  </tbody>\n",
       "</table>\n",
       "</div>"
      ],
      "text/plain": [
       "                         0\n",
       "code                   200\n",
       "message  Round 2 is ready.\n",
       "data          {'round': 2}"
      ]
     },
     "execution_count": 25,
     "metadata": {},
     "output_type": "execute_result"
    }
   ],
   "source": [
    "client_socket.sendall(\"/start\".encode())\n",
    "\n",
    "msg = pd.DataFrame.from_dict(data=json.loads(recv()), orient='index')\n",
    "msg"
   ]
  },
  {
   "cell_type": "code",
   "execution_count": 26,
   "metadata": {},
   "outputs": [
    {
     "data": {
      "text/html": [
       "<div>\n",
       "<style scoped>\n",
       "    .dataframe tbody tr th:only-of-type {\n",
       "        vertical-align: middle;\n",
       "    }\n",
       "\n",
       "    .dataframe tbody tr th {\n",
       "        vertical-align: top;\n",
       "    }\n",
       "\n",
       "    .dataframe thead th {\n",
       "        text-align: right;\n",
       "    }\n",
       "</style>\n",
       "<table border=\"1\" class=\"dataframe\">\n",
       "  <thead>\n",
       "    <tr style=\"text-align: right;\">\n",
       "      <th></th>\n",
       "      <th>0</th>\n",
       "    </tr>\n",
       "  </thead>\n",
       "  <tbody>\n",
       "    <tr>\n",
       "      <th>code</th>\n",
       "      <td>200</td>\n",
       "    </tr>\n",
       "    <tr>\n",
       "      <th>message</th>\n",
       "      <td>Success</td>\n",
       "    </tr>\n",
       "    <tr>\n",
       "      <th>data</th>\n",
       "      <td>{\"D1-A\": {\"Ordered\": false, \"Available\": true,...</td>\n",
       "    </tr>\n",
       "    <tr>\n",
       "      <th>time</th>\n",
       "      <td>0600</td>\n",
       "    </tr>\n",
       "  </tbody>\n",
       "</table>\n",
       "</div>"
      ],
      "text/plain": [
       "                                                         0\n",
       "code                                                   200\n",
       "message                                            Success\n",
       "data     {\"D1-A\": {\"Ordered\": false, \"Available\": true,...\n",
       "time                                                  0600"
      ]
     },
     "execution_count": 26,
     "metadata": {},
     "output_type": "execute_result"
    }
   ],
   "source": [
    "client_socket.sendall(\"/data/unit_table\".encode())\n",
    "\n",
    "units = pd.DataFrame.from_dict(data=json.loads(recv()), orient='index')\n",
    "units"
   ]
  },
  {
   "cell_type": "code",
   "execution_count": 27,
   "metadata": {},
   "outputs": [
    {
     "data": {
      "text/html": [
       "<div>\n",
       "<style scoped>\n",
       "    .dataframe tbody tr th:only-of-type {\n",
       "        vertical-align: middle;\n",
       "    }\n",
       "\n",
       "    .dataframe tbody tr th {\n",
       "        vertical-align: top;\n",
       "    }\n",
       "\n",
       "    .dataframe thead th {\n",
       "        text-align: right;\n",
       "    }\n",
       "</style>\n",
       "<table border=\"1\" class=\"dataframe\">\n",
       "  <thead>\n",
       "    <tr style=\"text-align: right;\">\n",
       "      <th></th>\n",
       "      <th>0</th>\n",
       "    </tr>\n",
       "  </thead>\n",
       "  <tbody>\n",
       "    <tr>\n",
       "      <th>code</th>\n",
       "      <td>200</td>\n",
       "    </tr>\n",
       "    <tr>\n",
       "      <th>message</th>\n",
       "      <td>Success</td>\n",
       "    </tr>\n",
       "    <tr>\n",
       "      <th>data</th>\n",
       "      <td>{\"Targets\": {\"T1\": {\"latitude\": 280, \"longitud...</td>\n",
       "    </tr>\n",
       "    <tr>\n",
       "      <th>time</th>\n",
       "      <td>0600</td>\n",
       "    </tr>\n",
       "  </tbody>\n",
       "</table>\n",
       "</div>"
      ],
      "text/plain": [
       "                                                         0\n",
       "code                                                   200\n",
       "message                                            Success\n",
       "data     {\"Targets\": {\"T1\": {\"latitude\": 280, \"longitud...\n",
       "time                                                  0600"
      ]
     },
     "execution_count": 27,
     "metadata": {},
     "output_type": "execute_result"
    }
   ],
   "source": [
    "client_socket.sendall(\"/data/target_list\".encode())\n",
    "\n",
    "targets = pd.DataFrame.from_dict(data=json.loads(recv()), orient='index')\n",
    "targets"
   ]
  },
  {
   "cell_type": "code",
   "execution_count": 28,
   "metadata": {},
   "outputs": [],
   "source": [
    "Target_list = pd.DataFrame.from_dict(data=json.loads(targets[0]['data']), orient='columns')"
   ]
  },
  {
   "cell_type": "code",
   "execution_count": 29,
   "metadata": {},
   "outputs": [
    {
     "data": {
      "text/html": [
       "<div>\n",
       "<style scoped>\n",
       "    .dataframe tbody tr th:only-of-type {\n",
       "        vertical-align: middle;\n",
       "    }\n",
       "\n",
       "    .dataframe tbody tr th {\n",
       "        vertical-align: top;\n",
       "    }\n",
       "\n",
       "    .dataframe thead th {\n",
       "        text-align: right;\n",
       "    }\n",
       "</style>\n",
       "<table border=\"1\" class=\"dataframe\">\n",
       "  <thead>\n",
       "    <tr style=\"text-align: right;\">\n",
       "      <th></th>\n",
       "      <th>0</th>\n",
       "    </tr>\n",
       "  </thead>\n",
       "  <tbody>\n",
       "    <tr>\n",
       "      <th>code</th>\n",
       "      <td>200</td>\n",
       "    </tr>\n",
       "    <tr>\n",
       "      <th>message</th>\n",
       "      <td>Success</td>\n",
       "    </tr>\n",
       "    <tr>\n",
       "      <th>data</th>\n",
       "      <td>{\"D1-A\": {\"Ordered\": false, \"Available\": true,...</td>\n",
       "    </tr>\n",
       "    <tr>\n",
       "      <th>time</th>\n",
       "      <td>0600</td>\n",
       "    </tr>\n",
       "  </tbody>\n",
       "</table>\n",
       "</div>"
      ],
      "text/plain": [
       "                                                         0\n",
       "code                                                   200\n",
       "message                                            Success\n",
       "data     {\"D1-A\": {\"Ordered\": false, \"Available\": true,...\n",
       "time                                                  0600"
      ]
     },
     "execution_count": 29,
     "metadata": {},
     "output_type": "execute_result"
    }
   ],
   "source": [
    "client_socket.sendall(\"/data/unit_table\".encode())\n",
    "\n",
    "units = pd.DataFrame.from_dict(data=json.loads(recv()), orient='index')\n",
    "units"
   ]
  },
  {
   "cell_type": "code",
   "execution_count": 30,
   "metadata": {},
   "outputs": [],
   "source": [
    "Target_dict = json.loads(targets[0]['data'])\n",
    "Target_dict\n",
    "Target_list_temp=[]\n",
    "random_target = []\n",
    "for i in range(1,10):\n",
    "    random_target_temp = 'T'+f'{i}'\n",
    "    if(Target_dict['Targets'][random_target_temp]['probability'] != 0):\n",
    "        Target_list_temp.append(Target_dict['Targets'][random_target_temp])\n",
    "        random_target.append(random_target_temp)\n",
    "Lake_info = Target_dict['Lakes']['L1']"
   ]
  },
  {
   "cell_type": "code",
   "execution_count": 31,
   "metadata": {},
   "outputs": [],
   "source": [
    "lake_lat = Lake_info['latitude']\n",
    "lake_long = Lake_info['longitude']\n",
    "\n",
    "base_list = ['A', 'B', 'C']\n",
    "base_lat ={}\n",
    "base_long = {}\n",
    "unit_dict = json.loads(units[0]['data'])\n",
    "aircraft_info = json.loads(spec[0]['data'])\n",
    "time_dict = {}\n",
    "weighted_cost = {}\n",
    "for i in base_list:\n",
    "    base_lat[i] = Target_dict['Bases'][i]['latitude']\n",
    "    base_long[i] = Target_dict['Bases'][i]['longitude']"
   ]
  },
  {
   "cell_type": "code",
   "execution_count": 32,
   "metadata": {},
   "outputs": [
    {
     "data": {
      "text/html": [
       "<div>\n",
       "<style scoped>\n",
       "    .dataframe tbody tr th:only-of-type {\n",
       "        vertical-align: middle;\n",
       "    }\n",
       "\n",
       "    .dataframe tbody tr th {\n",
       "        vertical-align: top;\n",
       "    }\n",
       "\n",
       "    .dataframe thead th {\n",
       "        text-align: right;\n",
       "    }\n",
       "</style>\n",
       "<table border=\"1\" class=\"dataframe\">\n",
       "  <thead>\n",
       "    <tr style=\"text-align: right;\">\n",
       "      <th></th>\n",
       "      <th>0</th>\n",
       "    </tr>\n",
       "  </thead>\n",
       "  <tbody>\n",
       "    <tr>\n",
       "      <th>code</th>\n",
       "      <td>200</td>\n",
       "    </tr>\n",
       "    <tr>\n",
       "      <th>message</th>\n",
       "      <td>Success</td>\n",
       "    </tr>\n",
       "    <tr>\n",
       "      <th>data</th>\n",
       "      <td>{\"D1-A\": {\"Ordered\": false, \"Available\": true,...</td>\n",
       "    </tr>\n",
       "    <tr>\n",
       "      <th>time</th>\n",
       "      <td>0600</td>\n",
       "    </tr>\n",
       "  </tbody>\n",
       "</table>\n",
       "</div>"
      ],
      "text/plain": [
       "                                                         0\n",
       "code                                                   200\n",
       "message                                            Success\n",
       "data     {\"D1-A\": {\"Ordered\": false, \"Available\": true,...\n",
       "time                                                  0600"
      ]
     },
     "execution_count": 32,
     "metadata": {},
     "output_type": "execute_result"
    }
   ],
   "source": [
    "client_socket.sendall(\"/data/unit_table\".encode())\n",
    "\n",
    "units = pd.DataFrame.from_dict(data=json.loads(recv()), orient='index')\n",
    "units"
   ]
  },
  {
   "cell_type": "code",
   "execution_count": 33,
   "metadata": {},
   "outputs": [],
   "source": [
    "xml = f'''<operations>\n",
    "    <order>\n",
    "        <time>0601</time>\n",
    "        <base>{unit_dict[select_aircraft(Target_list_temp,2)[0][0][0]]['Base']}</base>\n",
    "        <aircraft_type>{aircraft_info[select_aircraft(Target_list_temp,2)[0][0][0][0:2]]['Aircraft Type']}</aircraft_type>\n",
    "        <track_number>{select_aircraft(Target_list_temp,2)[0][0][0]}</track_number>\n",
    "        <mission_type>1</mission_type>\n",
    "        <course>{random_target[0]}</course>\n",
    "    </order>\n",
    "    <order>\n",
    "        <time>0602</time>\n",
    "        <base>{unit_dict[select_aircraft(Target_list_temp,2)[0][1][0]]['Base']}</base>\n",
    "        <aircraft_type>{aircraft_info[select_aircraft(Target_list_temp,2)[0][1][0][0:2]]['Aircraft Type']}</aircraft_type>\n",
    "        <track_number>{select_aircraft(Target_list_temp,2)[0][1][0]}</track_number>\n",
    "        <mission_type>1</mission_type>\n",
    "        <course>{random_target[1]}</course>\n",
    "    </order>\n",
    "    <order>\n",
    "        <time>0603</time>\n",
    "        <base>{unit_dict[select_aircraft(Target_list_temp,2)[0][2][0]]['Base']}</base>\n",
    "        <aircraft_type>{aircraft_info[select_aircraft(Target_list_temp,2)[0][2][0][0:2]]['Aircraft Type']}</aircraft_type>\n",
    "        <track_number>{select_aircraft(Target_list_temp,2)[0][2][0]}</track_number>\n",
    "        <mission_type>1</mission_type>\n",
    "        <course>{random_target[0]}</course>\n",
    "    </order>\n",
    "    <order>\n",
    "        <time>0604</time>\n",
    "        <base>{unit_dict[select_aircraft(Target_list_temp,2)[0][3][0]]['Base']}</base>\n",
    "        <aircraft_type>{aircraft_info[select_aircraft(Target_list_temp,2)[0][3][0][0:2]]['Aircraft Type']}</aircraft_type>\n",
    "        <track_number>{select_aircraft(Target_list_temp,2)[0][3][0]}</track_number>\n",
    "        <mission_type>1</mission_type>\n",
    "        <course>{random_target[1]}</course>\n",
    "    </order>\n",
    "</operations>'''"
   ]
  },
  {
   "cell_type": "code",
   "execution_count": 34,
   "metadata": {},
   "outputs": [
    {
     "data": {
      "text/html": [
       "<div>\n",
       "<style scoped>\n",
       "    .dataframe tbody tr th:only-of-type {\n",
       "        vertical-align: middle;\n",
       "    }\n",
       "\n",
       "    .dataframe tbody tr th {\n",
       "        vertical-align: top;\n",
       "    }\n",
       "\n",
       "    .dataframe thead th {\n",
       "        text-align: right;\n",
       "    }\n",
       "</style>\n",
       "<table border=\"1\" class=\"dataframe\">\n",
       "  <thead>\n",
       "    <tr style=\"text-align: right;\">\n",
       "      <th></th>\n",
       "      <th>0</th>\n",
       "    </tr>\n",
       "  </thead>\n",
       "  <tbody>\n",
       "    <tr>\n",
       "      <th>code</th>\n",
       "      <td>200</td>\n",
       "    </tr>\n",
       "    <tr>\n",
       "      <th>message</th>\n",
       "      <td>Success</td>\n",
       "    </tr>\n",
       "  </tbody>\n",
       "</table>\n",
       "</div>"
      ],
      "text/plain": [
       "               0\n",
       "code         200\n",
       "message  Success"
      ]
     },
     "execution_count": 34,
     "metadata": {},
     "output_type": "execute_result"
    }
   ],
   "source": [
    "client_socket.sendall(f\"/order/{xml}\".encode())\n",
    "\n",
    "order_result = pd.DataFrame.from_dict(data=json.loads(recv()), orient='index')\n",
    "order_result"
   ]
  },
  {
   "cell_type": "code",
   "execution_count": 35,
   "metadata": {},
   "outputs": [],
   "source": [
    "xml_skip = '''<operations>\n",
    "            </operations>'''"
   ]
  },
  {
   "cell_type": "code",
   "execution_count": 36,
   "metadata": {},
   "outputs": [
    {
     "data": {
      "text/html": [
       "<div>\n",
       "<style scoped>\n",
       "    .dataframe tbody tr th:only-of-type {\n",
       "        vertical-align: middle;\n",
       "    }\n",
       "\n",
       "    .dataframe tbody tr th {\n",
       "        vertical-align: top;\n",
       "    }\n",
       "\n",
       "    .dataframe thead th {\n",
       "        text-align: right;\n",
       "    }\n",
       "</style>\n",
       "<table border=\"1\" class=\"dataframe\">\n",
       "  <thead>\n",
       "    <tr style=\"text-align: right;\">\n",
       "      <th></th>\n",
       "      <th>0</th>\n",
       "    </tr>\n",
       "  </thead>\n",
       "  <tbody>\n",
       "    <tr>\n",
       "      <th>code</th>\n",
       "      <td>200</td>\n",
       "    </tr>\n",
       "    <tr>\n",
       "      <th>message</th>\n",
       "      <td>Success</td>\n",
       "    </tr>\n",
       "    <tr>\n",
       "      <th>data</th>\n",
       "      <td>{\"D1-A\": {\"Ordered\": false, \"Available\": true,...</td>\n",
       "    </tr>\n",
       "    <tr>\n",
       "      <th>time</th>\n",
       "      <td>0601</td>\n",
       "    </tr>\n",
       "  </tbody>\n",
       "</table>\n",
       "</div>"
      ],
      "text/plain": [
       "                                                         0\n",
       "code                                                   200\n",
       "message                                            Success\n",
       "data     {\"D1-A\": {\"Ordered\": false, \"Available\": true,...\n",
       "time                                                  0601"
      ]
     },
     "execution_count": 36,
     "metadata": {},
     "output_type": "execute_result"
    }
   ],
   "source": [
    "client_socket.sendall(\"/data/unit_table\".encode())\n",
    "\n",
    "units = pd.DataFrame.from_dict(data=json.loads(recv()), orient='index')\n",
    "units"
   ]
  },
  {
   "cell_type": "code",
   "execution_count": 37,
   "metadata": {},
   "outputs": [],
   "source": [
    "aircraft_number = 4\n",
    "iter_num_list = []\n",
    "while True:\n",
    "    check = 0\n",
    "    trigger = 0\n",
    "    client_socket.sendall(f\"/order/{xml_skip}\".encode())\n",
    "\n",
    "    order_result = pd.DataFrame.from_dict(data=json.loads(recv()), orient='index')\n",
    "    order_result\n",
    "\n",
    "    client_socket.sendall(\"/data/target_list\".encode())\n",
    "\n",
    "    targets = pd.DataFrame.from_dict(data=json.loads(recv()), orient='index')\n",
    "    targets\n",
    "\n",
    "    try:\n",
    "        Target_dict = json.loads(targets[0]['data'])\n",
    "        Target_dict\n",
    "    except:\n",
    "        break\n",
    "    \n",
    "    Target_list_temp=[]\n",
    "    random_target = []\n",
    "    for i in range(1,10):\n",
    "        random_target_temp = 'T'+f'{i}'\n",
    "        if(Target_dict['Targets'][random_target_temp]['threat'] == 0):\n",
    "            check = check + 1\n",
    "\n",
    "        if(Target_dict['Targets'][random_target_temp]['probability'] != 0 and Target_dict['Targets'][random_target_temp]['targeted'] != True):\n",
    "            aircraft_number = aircraft_number + 1\n",
    "            if (aircraft_number >= 30):\n",
    "                aircraft_number = aircraft_number % 30\n",
    "            trigger = 1\n",
    "            Target_list_temp.append(Target_dict['Targets'][random_target_temp])\n",
    "            random_target.append(random_target_temp)\n",
    "    if(check == 9):\n",
    "        break\n",
    "    if trigger == 1:    \n",
    "        client_socket.sendall(\"/data/unit_table\".encode())\n",
    "\n",
    "        units = pd.DataFrame.from_dict(data=json.loads(recv()), orient='index')\n",
    "        units\n",
    "        \n",
    "        xml = f'''<operations>\n",
    "        <order>\n",
    "            <time>{\"0\"+str(int(units[0]['time'])+1)}</time>\n",
    "            <base>{unit_dict[select_aircraft(Target_list_temp,1)[0][aircraft_number][0]]['Base']}</base>\n",
    "            <aircraft_type>{aircraft_info[select_aircraft(Target_list_temp,1)[0][aircraft_number][0][0:2]]['Aircraft Type']}</aircraft_type>\n",
    "            <track_number>{select_aircraft(Target_list_temp,1)[0][aircraft_number][0]}</track_number>\n",
    "            <mission_type>1</mission_type>\n",
    "            <course>{random_target[0]}</course>\n",
    "        </order>\n",
    "        </operations>'''\n",
    "\n",
    "        client_socket.sendall(f\"/order/{xml}\".encode())\n",
    "\n",
    "        order_result = pd.DataFrame.from_dict(data=json.loads(recv()), orient='index')\n",
    "        order_result\n",
    "\n",
    "        client_socket.sendall(\"/data/unit_table\".encode())\n",
    "\n",
    "        units = pd.DataFrame.from_dict(data=json.loads(recv()), orient='index')\n",
    "        units\n",
    "  \n",
    "\n",
    "\n",
    "\n",
    "\n",
    "    \n",
    "  "
   ]
  },
  {
   "cell_type": "code",
   "execution_count": 38,
   "metadata": {},
   "outputs": [
    {
     "data": {
      "text/html": [
       "<div>\n",
       "<style scoped>\n",
       "    .dataframe tbody tr th:only-of-type {\n",
       "        vertical-align: middle;\n",
       "    }\n",
       "\n",
       "    .dataframe tbody tr th {\n",
       "        vertical-align: top;\n",
       "    }\n",
       "\n",
       "    .dataframe thead th {\n",
       "        text-align: right;\n",
       "    }\n",
       "</style>\n",
       "<table border=\"1\" class=\"dataframe\">\n",
       "  <thead>\n",
       "    <tr style=\"text-align: right;\">\n",
       "      <th></th>\n",
       "      <th>0</th>\n",
       "    </tr>\n",
       "  </thead>\n",
       "  <tbody>\n",
       "    <tr>\n",
       "      <th>code</th>\n",
       "      <td>200</td>\n",
       "    </tr>\n",
       "    <tr>\n",
       "      <th>message</th>\n",
       "      <td>Round 2 is finished.</td>\n",
       "    </tr>\n",
       "    <tr>\n",
       "      <th>data</th>\n",
       "      <td>{'round': 2, 'is_win': True, 'score': 49321}</td>\n",
       "    </tr>\n",
       "  </tbody>\n",
       "</table>\n",
       "</div>"
      ],
      "text/plain": [
       "                                                    0\n",
       "code                                              200\n",
       "message                          Round 2 is finished.\n",
       "data     {'round': 2, 'is_win': True, 'score': 49321}"
      ]
     },
     "execution_count": 38,
     "metadata": {},
     "output_type": "execute_result"
    }
   ],
   "source": [
    "client_socket.sendall(\"/result\".encode())\n",
    "\n",
    "msg = pd.DataFrame.from_dict(data=json.loads(recv()), orient='index')\n",
    "msg"
   ]
  },
  {
   "cell_type": "markdown",
   "metadata": {},
   "source": [
    "#### Round 3"
   ]
  },
  {
   "cell_type": "code",
   "execution_count": 39,
   "metadata": {},
   "outputs": [
    {
     "data": {
      "text/html": [
       "<div>\n",
       "<style scoped>\n",
       "    .dataframe tbody tr th:only-of-type {\n",
       "        vertical-align: middle;\n",
       "    }\n",
       "\n",
       "    .dataframe tbody tr th {\n",
       "        vertical-align: top;\n",
       "    }\n",
       "\n",
       "    .dataframe thead th {\n",
       "        text-align: right;\n",
       "    }\n",
       "</style>\n",
       "<table border=\"1\" class=\"dataframe\">\n",
       "  <thead>\n",
       "    <tr style=\"text-align: right;\">\n",
       "      <th></th>\n",
       "      <th>0</th>\n",
       "    </tr>\n",
       "  </thead>\n",
       "  <tbody>\n",
       "    <tr>\n",
       "      <th>code</th>\n",
       "      <td>200</td>\n",
       "    </tr>\n",
       "    <tr>\n",
       "      <th>message</th>\n",
       "      <td>Round 3 is ready.</td>\n",
       "    </tr>\n",
       "    <tr>\n",
       "      <th>data</th>\n",
       "      <td>{'round': 3}</td>\n",
       "    </tr>\n",
       "  </tbody>\n",
       "</table>\n",
       "</div>"
      ],
      "text/plain": [
       "                         0\n",
       "code                   200\n",
       "message  Round 3 is ready.\n",
       "data          {'round': 3}"
      ]
     },
     "execution_count": 39,
     "metadata": {},
     "output_type": "execute_result"
    }
   ],
   "source": [
    "client_socket.sendall(\"/start\".encode())\n",
    "\n",
    "msg = pd.DataFrame.from_dict(data=json.loads(recv()), orient='index')\n",
    "msg"
   ]
  },
  {
   "cell_type": "code",
   "execution_count": 40,
   "metadata": {},
   "outputs": [
    {
     "data": {
      "text/html": [
       "<div>\n",
       "<style scoped>\n",
       "    .dataframe tbody tr th:only-of-type {\n",
       "        vertical-align: middle;\n",
       "    }\n",
       "\n",
       "    .dataframe tbody tr th {\n",
       "        vertical-align: top;\n",
       "    }\n",
       "\n",
       "    .dataframe thead th {\n",
       "        text-align: right;\n",
       "    }\n",
       "</style>\n",
       "<table border=\"1\" class=\"dataframe\">\n",
       "  <thead>\n",
       "    <tr style=\"text-align: right;\">\n",
       "      <th></th>\n",
       "      <th>0</th>\n",
       "    </tr>\n",
       "  </thead>\n",
       "  <tbody>\n",
       "    <tr>\n",
       "      <th>code</th>\n",
       "      <td>200</td>\n",
       "    </tr>\n",
       "    <tr>\n",
       "      <th>message</th>\n",
       "      <td>Success</td>\n",
       "    </tr>\n",
       "    <tr>\n",
       "      <th>data</th>\n",
       "      <td>{\"D1-A\": {\"Ordered\": false, \"Available\": true,...</td>\n",
       "    </tr>\n",
       "    <tr>\n",
       "      <th>time</th>\n",
       "      <td>0600</td>\n",
       "    </tr>\n",
       "  </tbody>\n",
       "</table>\n",
       "</div>"
      ],
      "text/plain": [
       "                                                         0\n",
       "code                                                   200\n",
       "message                                            Success\n",
       "data     {\"D1-A\": {\"Ordered\": false, \"Available\": true,...\n",
       "time                                                  0600"
      ]
     },
     "execution_count": 40,
     "metadata": {},
     "output_type": "execute_result"
    }
   ],
   "source": [
    "client_socket.sendall(\"/data/unit_table\".encode())\n",
    "\n",
    "units = pd.DataFrame.from_dict(data=json.loads(recv()), orient='index')\n",
    "units"
   ]
  },
  {
   "cell_type": "code",
   "execution_count": 41,
   "metadata": {},
   "outputs": [
    {
     "data": {
      "text/html": [
       "<div>\n",
       "<style scoped>\n",
       "    .dataframe tbody tr th:only-of-type {\n",
       "        vertical-align: middle;\n",
       "    }\n",
       "\n",
       "    .dataframe tbody tr th {\n",
       "        vertical-align: top;\n",
       "    }\n",
       "\n",
       "    .dataframe thead th {\n",
       "        text-align: right;\n",
       "    }\n",
       "</style>\n",
       "<table border=\"1\" class=\"dataframe\">\n",
       "  <thead>\n",
       "    <tr style=\"text-align: right;\">\n",
       "      <th></th>\n",
       "      <th>0</th>\n",
       "    </tr>\n",
       "  </thead>\n",
       "  <tbody>\n",
       "    <tr>\n",
       "      <th>code</th>\n",
       "      <td>200</td>\n",
       "    </tr>\n",
       "    <tr>\n",
       "      <th>message</th>\n",
       "      <td>Success</td>\n",
       "    </tr>\n",
       "    <tr>\n",
       "      <th>data</th>\n",
       "      <td>{\"Targets\": {\"T1\": {\"latitude\": 280, \"longitud...</td>\n",
       "    </tr>\n",
       "    <tr>\n",
       "      <th>time</th>\n",
       "      <td>0600</td>\n",
       "    </tr>\n",
       "  </tbody>\n",
       "</table>\n",
       "</div>"
      ],
      "text/plain": [
       "                                                         0\n",
       "code                                                   200\n",
       "message                                            Success\n",
       "data     {\"Targets\": {\"T1\": {\"latitude\": 280, \"longitud...\n",
       "time                                                  0600"
      ]
     },
     "execution_count": 41,
     "metadata": {},
     "output_type": "execute_result"
    }
   ],
   "source": [
    "client_socket.sendall(\"/data/target_list\".encode())\n",
    "\n",
    "targets = pd.DataFrame.from_dict(data=json.loads(recv()), orient='index')\n",
    "targets"
   ]
  },
  {
   "cell_type": "code",
   "execution_count": 42,
   "metadata": {},
   "outputs": [],
   "source": [
    "Target_list = pd.DataFrame.from_dict(data=json.loads(targets[0]['data']), orient='columns')"
   ]
  },
  {
   "cell_type": "code",
   "execution_count": 43,
   "metadata": {},
   "outputs": [],
   "source": [
    "Target_dict = json.loads(targets[0]['data'])\n",
    "Target_dict\n",
    "Target_list_temp=[]\n",
    "random_target = []\n",
    "for i in range(1,10):\n",
    "    random_target_temp = 'T'+f'{i}'\n",
    "    if(Target_dict['Targets'][random_target_temp]['probability'] != 0):\n",
    "        Target_list_temp.append(Target_dict['Targets'][random_target_temp])\n",
    "        random_target.append(random_target_temp)\n",
    "Lake_info = Target_dict['Lakes']['L1']"
   ]
  },
  {
   "cell_type": "code",
   "execution_count": 44,
   "metadata": {},
   "outputs": [],
   "source": [
    "lake_lat = Lake_info['latitude']\n",
    "lake_long = Lake_info['longitude']\n",
    "\n",
    "base_list = ['A', 'B', 'C']\n",
    "base_lat ={}\n",
    "base_long = {}\n",
    "unit_dict = json.loads(units[0]['data'])\n",
    "aircraft_info = json.loads(spec[0]['data'])\n",
    "time_dict = {}\n",
    "weighted_cost = {}\n",
    "for i in base_list:\n",
    "    base_lat[i] = Target_dict['Bases'][i]['latitude']\n",
    "    base_long[i] = Target_dict['Bases'][i]['longitude']"
   ]
  },
  {
   "cell_type": "code",
   "execution_count": 45,
   "metadata": {},
   "outputs": [],
   "source": [
    "xml = f'''<operations>\n",
    "    <order>\n",
    "        <time>0601</time>\n",
    "        <base>{unit_dict[select_aircraft(Target_list_temp,3)[0][0][0]]['Base']}</base>\n",
    "        <aircraft_type>{aircraft_info[select_aircraft(Target_list_temp,3)[0][0][0][0:2]]['Aircraft Type']}</aircraft_type>\n",
    "        <track_number>{select_aircraft(Target_list_temp,3)[0][0][0]}</track_number>\n",
    "        <mission_type>1</mission_type>\n",
    "        <course>{random_target[0]}</course>\n",
    "    </order>\n",
    "    <order>\n",
    "        <time>0602</time>\n",
    "        <base>{unit_dict[select_aircraft(Target_list_temp,3)[0][1][0]]['Base']}</base>\n",
    "        <aircraft_type>{aircraft_info[select_aircraft(Target_list_temp,3)[0][1][0][0:2]]['Aircraft Type']}</aircraft_type>\n",
    "        <track_number>{select_aircraft(Target_list_temp,3)[0][1][0]}</track_number>\n",
    "        <mission_type>1</mission_type>\n",
    "        <course>{random_target[1]}</course>\n",
    "    </order>\n",
    "    <order>\n",
    "        <time>0603</time>\n",
    "        <base>{unit_dict[select_aircraft(Target_list_temp,3)[0][2][0]]['Base']}</base>\n",
    "        <aircraft_type>{aircraft_info[select_aircraft(Target_list_temp,3)[0][2][0][0:2]]['Aircraft Type']}</aircraft_type>\n",
    "        <track_number>{select_aircraft(Target_list_temp,3)[0][2][0]}</track_number>\n",
    "        <mission_type>1</mission_type>\n",
    "        <course>{random_target[2]}</course>\n",
    "    </order>\n",
    "    <order>\n",
    "        <time>0604</time>\n",
    "        <base>{unit_dict[select_aircraft(Target_list_temp,3)[0][3][0]]['Base']}</base>\n",
    "        <aircraft_type>{aircraft_info[select_aircraft(Target_list_temp,3)[0][3][0][0:2]]['Aircraft Type']}</aircraft_type>\n",
    "        <track_number>{select_aircraft(Target_list_temp,3)[0][3][0]}</track_number>\n",
    "        <mission_type>1</mission_type>\n",
    "        <course>{random_target[0]}</course>\n",
    "    </order>\n",
    "    <order>\n",
    "        <time>0605</time>\n",
    "        <base>{unit_dict[select_aircraft(Target_list_temp,3)[0][4][0]]['Base']}</base>\n",
    "        <aircraft_type>{aircraft_info[select_aircraft(Target_list_temp,3)[0][4][0][0:2]]['Aircraft Type']}</aircraft_type>\n",
    "        <track_number>{select_aircraft(Target_list_temp,3)[0][4][0]}</track_number>\n",
    "        <mission_type>1</mission_type>\n",
    "        <course>{random_target[1]}</course>\n",
    "    </order>\n",
    "    <order>\n",
    "        <time>0606</time>\n",
    "        <base>{unit_dict[select_aircraft(Target_list_temp,3)[0][5][0]]['Base']}</base>\n",
    "        <aircraft_type>{aircraft_info[select_aircraft(Target_list_temp,3)[0][5][0][0:2]]['Aircraft Type']}</aircraft_type>\n",
    "        <track_number>{select_aircraft(Target_list_temp,3)[0][5][0]}</track_number>\n",
    "        <mission_type>1</mission_type>\n",
    "        <course>{random_target[2]}</course>\n",
    "    </order>\n",
    "</operations>'''"
   ]
  },
  {
   "cell_type": "code",
   "execution_count": 46,
   "metadata": {},
   "outputs": [
    {
     "data": {
      "text/html": [
       "<div>\n",
       "<style scoped>\n",
       "    .dataframe tbody tr th:only-of-type {\n",
       "        vertical-align: middle;\n",
       "    }\n",
       "\n",
       "    .dataframe tbody tr th {\n",
       "        vertical-align: top;\n",
       "    }\n",
       "\n",
       "    .dataframe thead th {\n",
       "        text-align: right;\n",
       "    }\n",
       "</style>\n",
       "<table border=\"1\" class=\"dataframe\">\n",
       "  <thead>\n",
       "    <tr style=\"text-align: right;\">\n",
       "      <th></th>\n",
       "      <th>0</th>\n",
       "    </tr>\n",
       "  </thead>\n",
       "  <tbody>\n",
       "    <tr>\n",
       "      <th>code</th>\n",
       "      <td>200</td>\n",
       "    </tr>\n",
       "    <tr>\n",
       "      <th>message</th>\n",
       "      <td>Success</td>\n",
       "    </tr>\n",
       "  </tbody>\n",
       "</table>\n",
       "</div>"
      ],
      "text/plain": [
       "               0\n",
       "code         200\n",
       "message  Success"
      ]
     },
     "execution_count": 46,
     "metadata": {},
     "output_type": "execute_result"
    }
   ],
   "source": [
    "client_socket.sendall(f\"/order/{xml}\".encode())\n",
    "\n",
    "order_result = pd.DataFrame.from_dict(data=json.loads(recv()), orient='index')\n",
    "order_result"
   ]
  },
  {
   "cell_type": "code",
   "execution_count": 47,
   "metadata": {},
   "outputs": [],
   "source": [
    "xml_skip = '''<operations>\n",
    "            </operations>'''"
   ]
  },
  {
   "cell_type": "code",
   "execution_count": 48,
   "metadata": {},
   "outputs": [
    {
     "data": {
      "text/html": [
       "<div>\n",
       "<style scoped>\n",
       "    .dataframe tbody tr th:only-of-type {\n",
       "        vertical-align: middle;\n",
       "    }\n",
       "\n",
       "    .dataframe tbody tr th {\n",
       "        vertical-align: top;\n",
       "    }\n",
       "\n",
       "    .dataframe thead th {\n",
       "        text-align: right;\n",
       "    }\n",
       "</style>\n",
       "<table border=\"1\" class=\"dataframe\">\n",
       "  <thead>\n",
       "    <tr style=\"text-align: right;\">\n",
       "      <th></th>\n",
       "      <th>0</th>\n",
       "    </tr>\n",
       "  </thead>\n",
       "  <tbody>\n",
       "    <tr>\n",
       "      <th>code</th>\n",
       "      <td>200</td>\n",
       "    </tr>\n",
       "    <tr>\n",
       "      <th>message</th>\n",
       "      <td>Success</td>\n",
       "    </tr>\n",
       "    <tr>\n",
       "      <th>data</th>\n",
       "      <td>{\"D1-A\": {\"Ordered\": false, \"Available\": true,...</td>\n",
       "    </tr>\n",
       "    <tr>\n",
       "      <th>time</th>\n",
       "      <td>0601</td>\n",
       "    </tr>\n",
       "  </tbody>\n",
       "</table>\n",
       "</div>"
      ],
      "text/plain": [
       "                                                         0\n",
       "code                                                   200\n",
       "message                                            Success\n",
       "data     {\"D1-A\": {\"Ordered\": false, \"Available\": true,...\n",
       "time                                                  0601"
      ]
     },
     "execution_count": 48,
     "metadata": {},
     "output_type": "execute_result"
    }
   ],
   "source": [
    "client_socket.sendall(\"/data/unit_table\".encode())\n",
    "\n",
    "units = pd.DataFrame.from_dict(data=json.loads(recv()), orient='index')\n",
    "units"
   ]
  },
  {
   "cell_type": "code",
   "execution_count": 49,
   "metadata": {},
   "outputs": [],
   "source": [
    "aircraft_number = 6\n",
    "iter_num_list = []\n",
    "while True:\n",
    "    check = 0\n",
    "    trigger = 0\n",
    "    client_socket.sendall(f\"/order/{xml_skip}\".encode())\n",
    "\n",
    "    order_result = pd.DataFrame.from_dict(data=json.loads(recv()), orient='index')\n",
    "    order_result\n",
    "\n",
    "    client_socket.sendall(\"/data/target_list\".encode())\n",
    "\n",
    "    targets = pd.DataFrame.from_dict(data=json.loads(recv()), orient='index')\n",
    "    targets\n",
    "    try:\n",
    "        Target_dict = json.loads(targets[0]['data'])\n",
    "        Target_dict\n",
    "    except:\n",
    "        break\n",
    "    Target_list_temp=[]\n",
    "    random_target = []\n",
    "    for i in range(1,10):\n",
    "        random_target_temp = 'T'+f'{i}'\n",
    "        if(Target_dict['Targets'][random_target_temp]['threat'] == 0):\n",
    "            check = check + 1\n",
    "\n",
    "        if(Target_dict['Targets'][random_target_temp]['probability'] != 0 and Target_dict['Targets'][random_target_temp]['targeted'] != True):\n",
    "            aircraft_number = aircraft_number + 1\n",
    "            if (aircraft_number >= 30):\n",
    "                aircraft_number = aircraft_number % 30\n",
    "            trigger = 1\n",
    "            Target_list_temp.append(Target_dict['Targets'][random_target_temp])\n",
    "            random_target.append(random_target_temp)\n",
    "    if(check == 9):\n",
    "        break\n",
    "    if trigger == 1:    \n",
    "        client_socket.sendall(\"/data/unit_table\".encode())\n",
    "\n",
    "        units = pd.DataFrame.from_dict(data=json.loads(recv()), orient='index')\n",
    "        units\n",
    "        \n",
    "        xml = f'''<operations>\n",
    "        <order>\n",
    "            <time>{\"0\"+str(int(units[0]['time'])+1)}</time>\n",
    "            <base>{unit_dict[select_aircraft(Target_list_temp,1)[0][aircraft_number][0]]['Base']}</base>\n",
    "            <aircraft_type>{aircraft_info[select_aircraft(Target_list_temp,1)[0][aircraft_number][0][0:2]]['Aircraft Type']}</aircraft_type>\n",
    "            <track_number>{select_aircraft(Target_list_temp,1)[0][aircraft_number][0]}</track_number>\n",
    "            <mission_type>1</mission_type>\n",
    "            <course>{random_target[0]}</course>\n",
    "        </order>\n",
    "        </operations>'''\n",
    "\n",
    "        client_socket.sendall(f\"/order/{xml}\".encode())\n",
    "\n",
    "        order_result = pd.DataFrame.from_dict(data=json.loads(recv()), orient='index')\n",
    "        order_result\n",
    "\n",
    "        client_socket.sendall(\"/data/unit_table\".encode())\n",
    "\n",
    "        units = pd.DataFrame.from_dict(data=json.loads(recv()), orient='index')\n",
    "        units\n",
    "  \n"
   ]
  },
  {
   "cell_type": "code",
   "execution_count": 50,
   "metadata": {},
   "outputs": [
    {
     "data": {
      "text/html": [
       "<div>\n",
       "<style scoped>\n",
       "    .dataframe tbody tr th:only-of-type {\n",
       "        vertical-align: middle;\n",
       "    }\n",
       "\n",
       "    .dataframe tbody tr th {\n",
       "        vertical-align: top;\n",
       "    }\n",
       "\n",
       "    .dataframe thead th {\n",
       "        text-align: right;\n",
       "    }\n",
       "</style>\n",
       "<table border=\"1\" class=\"dataframe\">\n",
       "  <thead>\n",
       "    <tr style=\"text-align: right;\">\n",
       "      <th></th>\n",
       "      <th>0</th>\n",
       "    </tr>\n",
       "  </thead>\n",
       "  <tbody>\n",
       "    <tr>\n",
       "      <th>code</th>\n",
       "      <td>200</td>\n",
       "    </tr>\n",
       "    <tr>\n",
       "      <th>message</th>\n",
       "      <td>Round 3 is finished.</td>\n",
       "    </tr>\n",
       "    <tr>\n",
       "      <th>data</th>\n",
       "      <td>{'round': 3, 'is_win': True, 'score': 28365}</td>\n",
       "    </tr>\n",
       "  </tbody>\n",
       "</table>\n",
       "</div>"
      ],
      "text/plain": [
       "                                                    0\n",
       "code                                              200\n",
       "message                          Round 3 is finished.\n",
       "data     {'round': 3, 'is_win': True, 'score': 28365}"
      ]
     },
     "execution_count": 50,
     "metadata": {},
     "output_type": "execute_result"
    }
   ],
   "source": [
    "client_socket.sendall(\"/result\".encode())\n",
    "\n",
    "msg = pd.DataFrame.from_dict(data=json.loads(recv()), orient='index')\n",
    "msg"
   ]
  }
 ],
 "metadata": {
  "kernelspec": {
   "display_name": "Python 3 (ipykernel)",
   "language": "python",
   "name": "python3"
  },
  "language_info": {
   "codemirror_mode": {
    "name": "ipython",
    "version": 3
   },
   "file_extension": ".py",
   "mimetype": "text/x-python",
   "name": "python",
   "nbconvert_exporter": "python",
   "pygments_lexer": "ipython3",
   "version": "3.9.12"
  }
 },
 "nbformat": 4,
 "nbformat_minor": 1
}
